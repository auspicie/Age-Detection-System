{
 "cells": [
  {
   "cell_type": "code",
   "execution_count": null,
   "id": "ce62e03e-b314-45a4-b9b5-2fe3e0745fd2",
   "metadata": {},
   "outputs": [],
   "source": [
    "import os\n",
    "import cv2\n",
    "import numpy as np\n",
    "from sklearn.model_selection import train_test_split\n",
    "from keras.models import Sequential\n",
    "from keras.layers import Conv2D, MaxPooling2D, Flatten, Dense, Dropout\n",
    "from keras.utils import to_categorical\n",
    "\n",
    "Age_Cat_folders = [\n",
    "    \"C:/Users/OWNER/Downloads/Alabi/Computer Vision/Self Imple/Age Detection System/Dataset/6-20\",\n",
    "    \"C:/Users/OWNER/Downloads/Alabi/Computer Vision/Self Imple/Age Detection System/Dataset/25-30\",\n",
    "    \"C:/Users/OWNER/Downloads/Alabi/Computer Vision/Self Imple/Age Detection System/Dataset/42-48\",\n",
    "    \"C:/Users/OWNER/Downloads/Alabi/Computer Vision/Self Imple/Age Detection System/Dataset/60-98\"\n",
    "    ]\n",
    "\n",
    "def load_data(Age_Cat_folders):\n",
    "    images = []\n",
    "    labels = []\n",
    "    for i, folder in enumerate(Age_Cat_folders):\n",
    "        for filename in os.listdir(folder):\n",
    "            try:\n",
    "                img = cv2.imread(os.path.join(folder,filename), cv2.IMREAD_GRAYSCALE)\n",
    "                img = cv2.resize(img, (48,48))\n",
    "                images.append(img)\n",
    "                labels.append(i)\n",
    "            except Exception as e:\n",
    "                print(f\"Error loading image {os.path.join(folder, filename)}:{e}\")\n",
    "    return np.array(images), np.array(labels)\n",
    "\n",
    "images, labels = load_data(Age_Cat_folders)\n",
    "X_train, X_test, y_train, y_test = train_test_split(images, labels, test_size = 0.2, random_state = 42)\n",
    "X_train = X_train.reshape(X_train.shape[0], 48, 48, 1).astype('float32')/255\n",
    "X_test = X_test.reshape(X_test.shape[0], 48, 48, 1).astype('float32')/255\n",
    "\n",
    "y_train = to_categorical(y_train)\n",
    "y_test = to_categorical(y_test)\n",
    "\n",
    "model = Sequential()\n",
    "model.add(Conv2D(32, kernel_size=(3,3), activation='relu', input_shape=(48,48,1)))\n",
    "model.add(Conv2D(64, kernel_size=(3,3), activation='relu'))\n",
    "model.add(MaxPooling2D(pool_size=(2,2)))\n",
    "model.add(Dropout(0.25))\n",
    "model.add(Flatten())\n",
    "model.add(Dense(128, activation='relu'))\n",
    "model.add(Dropout(0.5))\n",
    "model.add(Dense(4, activation='softmax'))\n",
    "\n",
    "model.compile(loss=\"categorical_crossentropy\", optimizer='adam', metrics=[\"accuracy\"])\n",
    "model.fit(X_train, y_train, batch_size=64, epochs=10, verbose=1, validation_data=(X_test, y_test))\n",
    "model.save(\"age_detection_model.h5\")"
   ]
  }
 ],
 "metadata": {
  "kernelspec": {
   "display_name": "Python 3 (ipykernel)",
   "language": "python",
   "name": "python3"
  },
  "language_info": {
   "codemirror_mode": {
    "name": "ipython",
    "version": 3
   },
   "file_extension": ".py",
   "mimetype": "text/x-python",
   "name": "python",
   "nbconvert_exporter": "python",
   "pygments_lexer": "ipython3",
   "version": "3.12.9"
  }
 },
 "nbformat": 4,
 "nbformat_minor": 5
}
